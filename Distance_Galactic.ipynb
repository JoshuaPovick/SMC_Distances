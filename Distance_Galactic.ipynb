{
 "cells": [
  {
   "cell_type": "code",
   "execution_count": 2,
   "metadata": {},
   "outputs": [],
   "source": [
    "##################################\n",
    "### Import the usual libraries ###\n",
    "##################################\n",
    "\n",
    "### Numpy\n",
    "import numpy as np\n",
    "\n",
    "### Astropy\n",
    "import astropy\n",
    "\n",
    "### Astropy FITS/Table handling\n",
    "from astropy.io import fits, ascii\n",
    "from astropy.table import Table, Column\n",
    "\n",
    "### astropy coorindates/units\n",
    "import astropy.coordinates as coord\n",
    "import astropy.constants as const\n",
    "import astropy.units as u\n",
    "\n",
    "### Gala\n",
    "from gala.units import galactic\n",
    "_ = coord.galactocentric_frame_defaults.set('v4.0')\n",
    "\n",
    "### Matplotlib\n",
    "import matplotlib\n",
    "import matplotlib.pyplot as plt\n",
    "%matplotlib inline\n",
    "matplotlib.rcParams.update({'font.size': 18}) #make plots more readable\n",
    "\n",
    "\n",
    "## Stuff Writtten by A Really Cool Professor\n",
    "import dlnpyutils as dlpu\n",
    "\n",
    "###\n",
    "import linearfitting as linfit\n",
    "import geometry as geo\n",
    "import mlefitting as mlefit\n",
    "import olsfitting as olsfit\n",
    "import utilities as util\n",
    "\n",
    "### Other\n",
    "import warnings\n",
    "warnings.filterwarnings('ignore')\n",
    "\n",
    "from tqdm import tqdm_notebook\n",
    "\n",
    "### Age of Universe\n",
    "H0 = 74.03*(u.km/u.s)/u.Mpc\n",
    "hertz = H0.to(u.km/u.s/u.pc).to(u.km/u.s/u.km)\n",
    "tage = (1/hertz).to(u.yr)\n",
    "ageU = tage.value"
   ]
  },
  {
   "cell_type": "code",
   "execution_count": 4,
   "metadata": {},
   "outputs": [],
   "source": [
    "#######################\n",
    "### Import SMC Data ###\n",
    "#######################\n",
    "\n",
    "#total number 1225\n",
    "smc = fits.getdata('/Users/joshpovick/Desktop/Research/SMC_Gradients/smc_rgbmembers.r13-l33-58932beta.fits.gz') \n",
    "\n",
    "cln = np.where((smc['FE_H']>-9999.0)&(smc['AK_TARG']>-9999.0)&(smc['LOGG']>0.0)&\n",
    "               (smc['FE_H_ERR']>-90.0)&(smc['C_FE']>-9999.0)&(smc['N_FE']>-9999.0))\n",
    "\n",
    "#total number 990\n",
    "smc = smc[cln]\n",
    "\n",
    "## Find Bloop\n",
    "bloop = np.where((smc['H']<=13.25)&(smc['J']-smc['K']<=0.95)&(smc['TEFF']>=4175))\n",
    "bloop_cut = []\n",
    "for i in range(len(smc)):\n",
    "    if i not in np.squeeze(bloop).tolist():\n",
    "        bloop_cut.append(i)\n",
    "        \n",
    "smc_nobloop = smc[bloop_cut]"
   ]
  },
  {
   "cell_type": "code",
   "execution_count": 5,
   "metadata": {},
   "outputs": [
    {
     "name": "stdout",
     "output_type": "stream",
     "text": [
      "Cone search center: <SkyCoord (ICRS): (ra, dec) in deg\n",
      "    (13.18333333, -72.82833333)> with radius 6.5 deg\n"
     ]
    }
   ],
   "source": [
    "####################################\n",
    "### Gaia Query Using Online Form ###\n",
    "####################################\n",
    "\n",
    "# (00:52:44, −72:49:42) Used in SMASH\n",
    "center = SkyCoord('00:52:44 -72:49:42', unit=(u.hourangle, u.deg))\n",
    "\n",
    "print('''Cone search center: {} with radius 6.5 deg'''.format(center))"
   ]
  },
  {
   "cell_type": "code",
   "execution_count": 6,
   "metadata": {},
   "outputs": [],
   "source": [
    "smc_gaia = fits.getdata('smc_apogee-result.fits.gz')\n",
    "cln = np.where((smc_gaia['astrometric_excess_noise']<1.0)&(np.isfinite(smc_gaia['phot_g_mean_mag'])==True)&\n",
    "               (np.isfinite(smc_gaia['phot_g_mean_mag'])==True)&(np.isfinite(smc_gaia['phot_bp_mean_mag'])==True)&\n",
    "               (np.isfinite(smc_gaia['phot_rp_mean_mag'])==True)&(smc_gaia['parallax']<0.2)&\n",
    "               (smc_gaia['parallax']>-0.2)&(smc_gaia['pmra']>=-3.0)&(smc_gaia['pmra']<=3.0)&\n",
    "               (smc_gaia['pmdec']>=-3.0)&(smc_gaia['pmdec']<=3.0)&(smc_gaia['phot_g_mean_flux_over_error']>5.0)&\n",
    "               (smc_gaia['phot_bp_mean_flux_over_error']>5.0)&(smc_gaia['phot_rp_mean_flux_over_error']>5.0))\n",
    "smc_gaia = smc_gaia[cln]\n",
    "\n",
    "# cuts from  \n",
    "\n",
    "# @ARTICLE{2020MNRAS.tmp.3030O,\n",
    "#        author = {{Omkumar}, Abinaya O. and {Subramanian}, Smitha and\n",
    "#          {Niederhofer}, Florian and {Diaz}, Jonathan and {Cioni}, Maria-Rosa L. and\n",
    "#          {El Youssoufi}, Dalal and {Bekki}, Kenji and {de Grijs}, Richard and\n",
    "#          {van Loon}, Jacco Th},\n",
    "#         title = \"{Gaia view of a stellar sub-structure in front of the Small Magellanic Cloud}\",\n",
    "#       journal = {\\mnras},\n",
    "#      keywords = {Magellanic Clouds, galaxies: interactions, proper motions, stars: kinematics and dynamics, Astrophysics - Astrophysics of Galaxies},\n",
    "#          year = 2020,\n",
    "#         month = oct,\n",
    "#           doi = {10.1093/mnras/staa3085},\n",
    "# archivePrefix = {arXiv},\n",
    "#        eprint = {2010.02687},\n",
    "#  primaryClass = {astro-ph.GA},\n",
    "#        adsurl = {https://ui.adsabs.harvard.edu/abs/2020MNRAS.tmp.3030O},\n",
    "#       adsnote = {Provided by the SAO/NASA Astrophysics Data System}\n",
    "# }"
   ]
  },
  {
   "cell_type": "code",
   "execution_count": 7,
   "metadata": {},
   "outputs": [
    {
     "data": {
      "text/plain": [
       "ColDefs(\n",
       "    name = 'solution_id'; format = 'K'\n",
       "    name = 'designation'; format = '28A'\n",
       "    name = 'source_id'; format = 'K'\n",
       "    name = 'random_index'; format = 'K'\n",
       "    name = 'ref_epoch'; format = 'D'; unit = 'yr'\n",
       "    name = 'ra'; format = 'D'; unit = 'deg'\n",
       "    name = 'ra_error'; format = 'D'; unit = 'mas'\n",
       "    name = 'dec'; format = 'D'; unit = 'deg'\n",
       "    name = 'dec_error'; format = 'D'; unit = 'mas'\n",
       "    name = 'parallax'; format = 'D'; unit = 'mas'\n",
       "    name = 'parallax_error'; format = 'D'; unit = 'mas'\n",
       "    name = 'parallax_over_error'; format = 'E'\n",
       "    name = 'pmra'; format = 'D'; unit = 'mas.yr**-1'\n",
       "    name = 'pmra_error'; format = 'D'; unit = 'mas.yr**-1'\n",
       "    name = 'pmdec'; format = 'D'; unit = 'mas.yr**-1'\n",
       "    name = 'pmdec_error'; format = 'D'; unit = 'mas.yr**-1'\n",
       "    name = 'ra_dec_corr'; format = 'E'\n",
       "    name = 'ra_parallax_corr'; format = 'E'\n",
       "    name = 'ra_pmra_corr'; format = 'E'\n",
       "    name = 'ra_pmdec_corr'; format = 'E'\n",
       "    name = 'dec_parallax_corr'; format = 'E'\n",
       "    name = 'dec_pmra_corr'; format = 'E'\n",
       "    name = 'dec_pmdec_corr'; format = 'E'\n",
       "    name = 'parallax_pmra_corr'; format = 'E'\n",
       "    name = 'parallax_pmdec_corr'; format = 'E'\n",
       "    name = 'pmra_pmdec_corr'; format = 'E'\n",
       "    name = 'astrometric_n_obs_al'; format = 'J'\n",
       "    name = 'astrometric_n_obs_ac'; format = 'J'\n",
       "    name = 'astrometric_n_good_obs_al'; format = 'J'\n",
       "    name = 'astrometric_n_bad_obs_al'; format = 'J'\n",
       "    name = 'astrometric_gof_al'; format = 'E'\n",
       "    name = 'astrometric_chi2_al'; format = 'E'\n",
       "    name = 'astrometric_excess_noise'; format = 'D'; unit = 'mas'\n",
       "    name = 'astrometric_excess_noise_sig'; format = 'D'\n",
       "    name = 'astrometric_params_solved'; format = 'I'\n",
       "    name = 'astrometric_primary_flag'; format = 'L'\n",
       "    name = 'astrometric_weight_al'; format = 'E'; unit = 'mas**-2'\n",
       "    name = 'astrometric_pseudo_colour'; format = 'D'; unit = 'um**-1'\n",
       "    name = 'astrometric_pseudo_colour_error'; format = 'D'; unit = 'um**-1'\n",
       "    name = 'mean_varpi_factor_al'; format = 'E'\n",
       "    name = 'astrometric_matched_observations'; format = 'I'\n",
       "    name = 'visibility_periods_used'; format = 'I'\n",
       "    name = 'astrometric_sigma5d_max'; format = 'E'; unit = 'mas'\n",
       "    name = 'frame_rotator_object_type'; format = 'J'\n",
       "    name = 'matched_observations'; format = 'I'\n",
       "    name = 'duplicated_source'; format = 'L'\n",
       "    name = 'phot_g_n_obs'; format = 'J'\n",
       "    name = 'phot_g_mean_flux'; format = 'D'; unit = \"'electron'.s**-1\"\n",
       "    name = 'phot_g_mean_flux_error'; format = 'D'; unit = \"'electron'.s**-1\"\n",
       "    name = 'phot_g_mean_flux_over_error'; format = 'E'\n",
       "    name = 'phot_g_mean_mag'; format = 'E'; unit = 'mag'\n",
       "    name = 'phot_bp_n_obs'; format = 'J'\n",
       "    name = 'phot_bp_mean_flux'; format = 'D'; unit = \"'electron'.s**-1\"\n",
       "    name = 'phot_bp_mean_flux_error'; format = 'D'; unit = \"'electron'.s**-1\"\n",
       "    name = 'phot_bp_mean_flux_over_error'; format = 'E'\n",
       "    name = 'phot_bp_mean_mag'; format = 'E'; unit = 'mag'\n",
       "    name = 'phot_rp_n_obs'; format = 'J'\n",
       "    name = 'phot_rp_mean_flux'; format = 'D'; unit = \"'electron'.s**-1\"\n",
       "    name = 'phot_rp_mean_flux_error'; format = 'D'; unit = \"'electron'.s**-1\"\n",
       "    name = 'phot_rp_mean_flux_over_error'; format = 'E'\n",
       "    name = 'phot_rp_mean_mag'; format = 'E'; unit = 'mag'\n",
       "    name = 'phot_bp_rp_excess_factor'; format = 'E'\n",
       "    name = 'phot_proc_mode'; format = 'I'\n",
       "    name = 'bp_rp'; format = 'E'; unit = 'mag'\n",
       "    name = 'bp_g'; format = 'E'; unit = 'mag'\n",
       "    name = 'g_rp'; format = 'E'; unit = 'mag'\n",
       "    name = 'radial_velocity'; format = 'D'; unit = 'km.s**-1'\n",
       "    name = 'radial_velocity_error'; format = 'D'; unit = 'km.s**-1'\n",
       "    name = 'rv_nb_transits'; format = 'J'\n",
       "    name = 'rv_template_teff'; format = 'E'; unit = 'K'\n",
       "    name = 'rv_template_logg'; format = 'E'; unit = 'log(cm.s**-2)'\n",
       "    name = 'rv_template_fe_h'; format = 'E'; unit = 'dex'\n",
       "    name = 'phot_variable_flag'; format = '13A'\n",
       "    name = 'l'; format = 'D'; unit = 'deg'\n",
       "    name = 'b'; format = 'D'; unit = 'deg'\n",
       "    name = 'ecl_lon'; format = 'D'; unit = 'deg'\n",
       "    name = 'ecl_lat'; format = 'D'; unit = 'deg'\n",
       "    name = 'priam_flags'; format = 'K'; null = -9223372036854775808\n",
       "    name = 'teff_val'; format = 'E'; unit = 'K'\n",
       "    name = 'teff_percentile_lower'; format = 'E'; unit = 'K'\n",
       "    name = 'teff_percentile_upper'; format = 'E'; unit = 'K'\n",
       "    name = 'a_g_val'; format = 'E'; unit = 'mag'\n",
       "    name = 'a_g_percentile_lower'; format = 'E'; unit = 'mag'\n",
       "    name = 'a_g_percentile_upper'; format = 'E'; unit = 'mag'\n",
       "    name = 'e_bp_min_rp_val'; format = 'E'; unit = 'mag'\n",
       "    name = 'e_bp_min_rp_percentile_lower'; format = 'E'; unit = 'mag'\n",
       "    name = 'e_bp_min_rp_percentile_upper'; format = 'E'; unit = 'mag'\n",
       "    name = 'flame_flags'; format = 'K'; null = -9223372036854775808\n",
       "    name = 'radius_val'; format = 'E'; unit = 'solRad'\n",
       "    name = 'radius_percentile_lower'; format = 'E'; unit = 'solRad'\n",
       "    name = 'radius_percentile_upper'; format = 'E'; unit = 'solRad'\n",
       "    name = 'lum_val'; format = 'E'; unit = 'solLum'\n",
       "    name = 'lum_percentile_lower'; format = 'E'; unit = 'solLum'\n",
       "    name = 'lum_percentile_upper'; format = 'E'; unit = 'solLum'\n",
       "    name = 'datalink_url'; format = '83A'\n",
       "    name = 'epoch_photometry_url'; format = '99A'\n",
       ")"
      ]
     },
     "execution_count": 7,
     "metadata": {},
     "output_type": "execute_result"
    }
   ],
   "source": [
    "smc_gaia.columns"
   ]
  },
  {
   "cell_type": "code",
   "execution_count": 10,
   "metadata": {},
   "outputs": [
    {
     "data": {
      "text/plain": [
       "(array([  5.,  38., 111., 175., 219., 152., 137.,  90.,  40.,  23.]),\n",
       " array([ 95.54261 , 112.231895, 128.92117 , 145.61046 , 162.29974 ,\n",
       "        178.98903 , 195.67831 , 212.3676  , 229.05688 , 245.74617 ,\n",
       "        262.43546 ], dtype=float32),\n",
       " <a list of 10 Patch objects>)"
      ]
     },
     "execution_count": 10,
     "metadata": {},
     "output_type": "execute_result"
    },
    {
     "data": {
      "image/png": "[encoded data removed]",
      "text/plain": [
       "<Figure size 432x288 with 1 Axes>"
      ]
     },
     "metadata": {
      "needs_background": "light"
     },
     "output_type": "display_data"
    }
   ],
   "source": [
    "plt.hist(np.tan(70)*smc['VHELIO_AVG'])"
   ]
  },
  {
   "cell_type": "code",
   "execution_count": null,
   "metadata": {},
   "outputs": [],
   "source": []
  }
 ],
 "metadata": {
  "kernelspec": {
   "display_name": "Python 3",
   "language": "python",
   "name": "python3"
  },
  "language_info": {
   "codemirror_mode": {
    "name": "ipython",
    "version": 3
   },
   "file_extension": ".py",
   "mimetype": "text/x-python",
   "name": "python",
   "nbconvert_exporter": "python",
   "pygments_lexer": "ipython3",
   "version": "3.7.6"
  }
 },
 "nbformat": 4,
 "nbformat_minor": 4
}
